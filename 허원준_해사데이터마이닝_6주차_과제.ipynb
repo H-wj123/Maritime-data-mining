{
  "nbformat": 4,
  "nbformat_minor": 0,
  "metadata": {
    "colab": {
      "provenance": []
    },
    "kernelspec": {
      "name": "python3",
      "display_name": "Python 3"
    },
    "language_info": {
      "name": "python"
    }
  },
  "cells": [
    {
      "cell_type": "code",
      "execution_count": 2,
      "metadata": {
        "colab": {
          "base_uri": "https://localhost:8080/"
        },
        "id": "_grnCwsOxqVq",
        "outputId": "3e894b3a-fd35-4389-b7df-cb4ed8b96c6b"
      },
      "outputs": [
        {
          "output_type": "stream",
          "name": "stdout",
          "text": [
            "<class 'pandas.core.frame.DataFrame'>\n",
            "RangeIndex: 2 entries, 0 to 1\n",
            "Data columns (total 5 columns):\n",
            " #   Column   Non-Null Count  Dtype \n",
            "---  ------   --------------  ----- \n",
            " 0   id       2 non-null      int64 \n",
            " 1   name     2 non-null      object\n",
            " 2   email    2 non-null      object\n",
            " 3   phone    2 non-null      object\n",
            " 4   address  2 non-null      object\n",
            "dtypes: int64(1), object(4)\n",
            "memory usage: 212.0+ bytes\n",
            "None\n",
            "   id name             email             phone  \\\n",
            "0   1  홍길동  hong@example.com  +82-10-1234-5678   \n",
            "1   2  김철수   kim@example.com  +82-10-8765-4321   \n",
            "\n",
            "                             address  \n",
            "0  {'city': '서울', 'country': '대한민국'}  \n",
            "1  {'city': '부산', 'country': '대한민국'}  \n"
          ]
        }
      ],
      "source": [
        "import pandas as pd\n",
        "import json\n",
        "\n",
        "# JSON 파일 읽기\n",
        "\n",
        "json_file_path = \"/data/jsonData/customjson\"\n",
        "\n",
        "with open('custom.json', 'r', encoding='utf-8') as file:\n",
        "    data = json.load(file)\n",
        "\n",
        "# DataFrame으로 변환\n",
        "df = pd.DataFrame(data)\n",
        "\n",
        "# DataFrame 확인\n",
        "print(df.info())\n",
        "\n",
        "print(df.head())"
      ]
    },
    {
      "cell_type": "code",
      "source": [
        "import pandas as pd\n",
        "import xml.etree.ElementTree as ET\n",
        "\n",
        "# XML 파일 경로\n",
        "xml_file_path = \"book.xml\"\n",
        "\n",
        "# XML 파일 읽기\n",
        "tree = ET.parse(xml_file_path)\n",
        "\n",
        "# 루트 요소 가져오기\n",
        "root = tree.getroot()\n",
        "\n",
        "# 특정 요소 목록 가져오기\n",
        "elements = root.findall('book')\n",
        "\n",
        "# DataFrame 생성\n",
        "df = pd.DataFrame(columns=['title', 'author', 'price', 'genre'])\n",
        "\n",
        "# 각 요소를 Dataframe에 추가\n",
        "for element in elements:\n",
        "  row = {\n",
        "      'title' : element.find('title').text,\n",
        "      'author': element.find('author').text,\n",
        "      'price' : float(element.find('price').text),\n",
        "      'genre' :element.find('genre').text,\n",
        "  }\n",
        "\n",
        "  # Corrected indentation: This line should be indented at the same level as the 'row' assignment\n",
        "  new_df = pd.DataFrame([row], columns=df.columns)\n",
        "  df = pd.concat([df, new_df], ignore_index=True)\n",
        "\n",
        "# DataFrame 정보 출력\n",
        "print(df.info())\n",
        "\n",
        "# DataFrame 확인\n",
        "print(df.head())"
      ],
      "metadata": {
        "colab": {
          "base_uri": "https://localhost:8080/"
        },
        "id": "koO59IN5yBbg",
        "outputId": "27f70e0b-1fed-41c9-c432-508404814708"
      },
      "execution_count": 6,
      "outputs": [
        {
          "output_type": "stream",
          "name": "stdout",
          "text": [
            "<class 'pandas.core.frame.DataFrame'>\n",
            "RangeIndex: 3 entries, 0 to 2\n",
            "Data columns (total 4 columns):\n",
            " #   Column  Non-Null Count  Dtype  \n",
            "---  ------  --------------  -----  \n",
            " 0   title   3 non-null      object \n",
            " 1   author  3 non-null      object \n",
            " 2   price   3 non-null      float64\n",
            " 3   genre   3 non-null      object \n",
            "dtypes: float64(1), object(3)\n",
            "memory usage: 228.0+ bytes\n",
            "None\n",
            "                   title          author  price    genre\n",
            "0    Pride and Prejudice     Jane Austen  19.99  romance\n",
            "1  To Kill a Mockingbird      Harper Lee  14.99  fiction\n",
            "2  The Lord of the Rings  J.R.R. Tolkien  34.99  fantasy\n"
          ]
        },
        {
          "output_type": "stream",
          "name": "stderr",
          "text": [
            "<ipython-input-6-8b5e8e372690>:30: FutureWarning: The behavior of DataFrame concatenation with empty or all-NA entries is deprecated. In a future version, this will no longer exclude empty or all-NA columns when determining the result dtypes. To retain the old behavior, exclude the relevant entries before the concat operation.\n",
            "  df = pd.concat([df, new_df], ignore_index=True)\n"
          ]
        }
      ]
    }
  ]
}