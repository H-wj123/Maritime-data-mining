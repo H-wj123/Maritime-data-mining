{
  "nbformat": 4,
  "nbformat_minor": 0,
  "metadata": {
    "colab": {
      "provenance": []
    },
    "kernelspec": {
      "name": "python3",
      "display_name": "Python 3"
    },
    "language_info": {
      "name": "python"
    }
  },
  "cells": [
    {
      "cell_type": "code",
      "execution_count": 1,
      "metadata": {
        "id": "5pLaTnQ9o9KN"
      },
      "outputs": [],
      "source": [
        "import pandas as pd"
      ]
    },
    {
      "cell_type": "code",
      "source": [
        "import numpy as np"
      ],
      "metadata": {
        "id": "CANjph31pG9c"
      },
      "execution_count": 4,
      "outputs": []
    },
    {
      "cell_type": "code",
      "source": [
        "path = 'https://github.com/dongupak/DataML/raw/main/csv/'\n",
        "file = path+'vehicle_prod.csv'\n",
        "df = pd.read_csv(file)"
      ],
      "metadata": {
        "id": "qA5FdVNWpR31"
      },
      "execution_count": 5,
      "outputs": []
    },
    {
      "cell_type": "code",
      "source": [
        "df = pd.read_csv(file,  index_col = 0)\n",
        "print(df)"
      ],
      "metadata": {
        "colab": {
          "base_uri": "https://localhost:8080/"
        },
        "id": "ebyOQwjFpSVb",
        "outputId": "792a1fcf-110b-4cb4-b0ea-edadccfa3eb7"
      },
      "execution_count": 7,
      "outputs": [
        {
          "output_type": "stream",
          "name": "stdout",
          "text": [
            "         2007   2008   2009   2010   2011\n",
            "China    7.71   7.95  11.96  15.84  16.33\n",
            "EU      19.02  17.71  15.00  16.70  17.48\n",
            "US      10.47   8.45   5.58   7.60   8.40\n",
            "Japan   10.87  10.83   7.55   9.09   7.88\n",
            "Korea    4.04   3.78   3.45   4.20   4.62\n",
            "Mexico   2.01   2.05   1.50   2.25   2.54\n"
          ]
        }
      ]
    },
    {
      "cell_type": "code",
      "source": [
        "df['average'] =  df[['2007', '2008', '2009', '2010', '2011']].mean(axis=1)\n",
        "print(df)"
      ],
      "metadata": {
        "colab": {
          "base_uri": "https://localhost:8080/"
        },
        "id": "fFzhaO1Mrzy7",
        "outputId": "0fb78172-3f05-46e2-f647-e5208ccf6ebc"
      },
      "execution_count": 12,
      "outputs": [
        {
          "output_type": "stream",
          "name": "stdout",
          "text": [
            "         2007   2008   2009   2010   2011  average\n",
            "China    7.71   7.95  11.96  15.84  16.33   11.958\n",
            "EU      19.02  17.71  15.00  16.70  17.48   17.182\n",
            "US      10.47   8.45   5.58   7.60   8.40    8.100\n",
            "Japan   10.87  10.83   7.55   9.09   7.88    9.244\n",
            "Korea    4.04   3.78   3.45   4.20   4.62    4.018\n",
            "Mexico   2.01   2.05   1.50   2.25   2.54    2.070\n"
          ]
        }
      ]
    },
    {
      "cell_type": "code",
      "source": [
        "df['average'] =  df.select_dtypes(include=np.number).mean(axis=1)\n",
        "total = df.select_dtypes(include=np.number).sum().rename('Total')\n",
        "df = pd.concat([df,pd.DataFrame([total])])\n",
        "print(df)"
      ],
      "metadata": {
        "colab": {
          "base_uri": "https://localhost:8080/"
        },
        "id": "_tBnU6OpuNkC",
        "outputId": "cf059297-7bf3-4920-faf0-5ec65934888c"
      },
      "execution_count": 19,
      "outputs": [
        {
          "output_type": "stream",
          "name": "stdout",
          "text": [
            "         2007   2008   2009   2010   2011  average\n",
            "China    7.71   7.95  11.96  15.84  16.33   11.958\n",
            "EU      19.02  17.71  15.00  16.70  17.48   17.182\n",
            "US      10.47   8.45   5.58   7.60   8.40    8.100\n",
            "Japan   10.87  10.83   7.55   9.09   7.88    9.244\n",
            "Korea    4.04   3.78   3.45   4.20   4.62    4.018\n",
            "Mexico   2.01   2.05   1.50   2.25   2.54    2.070\n",
            "Total   54.12  50.77  45.04  55.68  57.25   52.572\n"
          ]
        }
      ]
    },
    {
      "cell_type": "code",
      "source": [
        "import pandas as pd"
      ],
      "metadata": {
        "id": "57e2pSQ3uN46"
      },
      "execution_count": 20,
      "outputs": []
    },
    {
      "cell_type": "code",
      "source": [
        "import numpy as np"
      ],
      "metadata": {
        "id": "XOwKQCFQucoK"
      },
      "execution_count": 21,
      "outputs": []
    },
    {
      "cell_type": "code",
      "source": [
        "import matplotlib.pyplot as plt"
      ],
      "metadata": {
        "id": "ADL2FuTYucrj"
      },
      "execution_count": 23,
      "outputs": []
    },
    {
      "cell_type": "code",
      "source": [
        "path = 'https://github.com/dongupak/DataML/raw/main/csv/'\n",
        "weather_file = path + 'weather.csv'\n",
        "weather = pd.read_csv(weather_file, encoding='CP949')\n",
        "# Check the actual column names in the DataFrame\n",
        "print(weather.columns)\n",
        "\n",
        "monthly = [None for x in range(12)]\n",
        "monthly_wind = [0 for x in range(12)]\n",
        "for i in range(12):\n",
        "    # Assuming the column name is 'month', replace it with the correct column name if different.\n",
        "    # For example, if the column name is '월', use weather[weather['월'] == i + 1]\n",
        "    monthly[i] = weather[weather['일시'] == i + 1]\n",
        "    # Assuming the column name is '평균풍속', replace it with the correct column name if different.\n",
        "    monthly_wind[i] = monthly[i].mean()['평균풍속']\n",
        "months = np.arange(1, 13)\n",
        "plt.bar(months, monthly_wind, color='blue')\n",
        "plt.xlabel('Month')\n",
        "plt.ylabel('wind speed')\n",
        "plt.title('Monthly windspeed')\n",
        "plt.show()\n",
        "\n",
        "# Check the actual column names in the DataFrame\n",
        "print(weather.columns)\n",
        "\n",
        "monthly = [None for x in range(12)]\n",
        "monthly_wind = [0 for x in range(12)]\n",
        "for i in range(12):\n",
        "    monthly[i] = weather[weather['일시'] == i + 1]\n",
        "    monthly_wind[i] = monthly[i].mean()['평균풍속']\n",
        "months = np.arange(1, 13)\n",
        "plt.bar(months, monthly_wind, color='skyblue')\n",
        "plt.xlabel('Month')\n",
        "plt.ylabel('wind speed')\n",
        "plt.title('Monthly windspeed')\n",
        "plt.show()"
      ],
      "metadata": {
        "colab": {
          "base_uri": "https://localhost:8080/",
          "height": 962
        },
        "id": "EfJxPsye2SHb",
        "outputId": "49248d96-c1a3-4ba1-ff76-0da92a69d9de"
      },
      "execution_count": 34,
      "outputs": [
        {
          "output_type": "stream",
          "name": "stdout",
          "text": [
            "Index(['일시', '평균기온', '최대풍속', '평균풍속'], dtype='object')\n"
          ]
        },
        {
          "output_type": "display_data",
          "data": {
            "text/plain": [
              "<Figure size 640x480 with 1 Axes>"
            ],
            "image/png": "[encoded data removed]"
          },
          "metadata": {}
        },
        {
          "output_type": "stream",
          "name": "stdout",
          "text": [
            "Index(['일시', '평균기온', '최대풍속', '평균풍속'], dtype='object')\n"
          ]
        },
        {
          "output_type": "display_data",
          "data": {
            "text/plain": [
              "<Figure size 640x480 with 1 Axes>"
            ],
            "image/png": "[encoded data removed]"
          },
          "metadata": {}
        }
      ]
    },
    {
      "cell_type": "code",
      "source": [],
      "metadata": {
        "id": "h8pyhvN6uczQ"
      },
      "execution_count": null,
      "outputs": []
    }
  ]
}