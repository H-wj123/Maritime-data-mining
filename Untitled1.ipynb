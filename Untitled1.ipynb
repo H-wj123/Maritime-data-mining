{
  "nbformat": 4,
  "nbformat_minor": 0,
  "metadata": {
    "colab": {
      "provenance": []
    },
    "kernelspec": {
      "name": "python3",
      "display_name": "Python 3"
    },
    "language_info": {
      "name": "python"
    }
  },
  "cells": [
    {
      "cell_type": "code",
      "execution_count": 1,
      "metadata": {
        "id": "5pLaTnQ9o9KN"
      },
      "outputs": [],
      "source": [
        "import pandas as pd"
      ]
    },
    {
      "cell_type": "code",
      "source": [
        "import numpy as np\n"
      ],
      "metadata": {
        "id": "CANjph31pG9c"
      },
      "execution_count": 4,
      "outputs": []
    },
    {
      "cell_type": "code",
      "source": [
        "path = 'https://github.com/dongupak/DataML/raw/main/csv/'\n",
        "file = path+'vehicle_prod.csv'\n",
        "df = pd.read_csv(file)"
      ],
      "metadata": {
        "id": "qA5FdVNWpR31"
      },
      "execution_count": 5,
      "outputs": []
    },
    {
      "cell_type": "code",
      "source": [
        "df = pd.read_csv(file,  index_col = 0)\n",
        "print(df)"
      ],
      "metadata": {
        "colab": {
          "base_uri": "https://localhost:8080/"
        },
        "id": "ebyOQwjFpSVb",
        "outputId": "792a1fcf-110b-4cb4-b0ea-edadccfa3eb7"
      },
      "execution_count": 7,
      "outputs": [
        {
          "output_type": "stream",
          "name": "stdout",
          "text": [
            "         2007   2008   2009   2010   2011\n",
            "China    7.71   7.95  11.96  15.84  16.33\n",
            "EU      19.02  17.71  15.00  16.70  17.48\n",
            "US      10.47   8.45   5.58   7.60   8.40\n",
            "Japan   10.87  10.83   7.55   9.09   7.88\n",
            "Korea    4.04   3.78   3.45   4.20   4.62\n",
            "Mexico   2.01   2.05   1.50   2.25   2.54\n"
          ]
        }
      ]
    },
    {
      "cell_type": "code",
      "source": [
        "df['average'] =  df[['2007', '2008', '2009', '2010', '2011']].mean(axis=1)\n",
        "print(df)"
      ],
      "metadata": {
        "colab": {
          "base_uri": "https://localhost:8080/"
        },
        "id": "fFzhaO1Mrzy7",
        "outputId": "0fb78172-3f05-46e2-f647-e5208ccf6ebc"
      },
      "execution_count": 12,
      "outputs": [
        {
          "output_type": "stream",
          "name": "stdout",
          "text": [
            "         2007   2008   2009   2010   2011  average\n",
            "China    7.71   7.95  11.96  15.84  16.33   11.958\n",
            "EU      19.02  17.71  15.00  16.70  17.48   17.182\n",
            "US      10.47   8.45   5.58   7.60   8.40    8.100\n",
            "Japan   10.87  10.83   7.55   9.09   7.88    9.244\n",
            "Korea    4.04   3.78   3.45   4.20   4.62    4.018\n",
            "Mexico   2.01   2.05   1.50   2.25   2.54    2.070\n"
          ]
        }
      ]
    }
  ]
}